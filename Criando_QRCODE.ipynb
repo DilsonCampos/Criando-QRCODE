{
  "nbformat": 4,
  "nbformat_minor": 0,
  "metadata": {
    "colab": {
      "provenance": [],
      "authorship_tag": "ABX9TyOJ/AutAdsPvwN2uDJxMaR4",
      "include_colab_link": true
    },
    "kernelspec": {
      "name": "python3",
      "display_name": "Python 3"
    },
    "language_info": {
      "name": "python"
    }
  },
  "cells": [
    {
      "cell_type": "markdown",
      "metadata": {
        "id": "view-in-github",
        "colab_type": "text"
      },
      "source": [
        "<a href=\"https://colab.research.google.com/github/DilsonCampos/Criando-QRCODE/blob/main/Criando_QRCODE.ipynb\" target=\"_parent\"><img src=\"https://colab.research.google.com/assets/colab-badge.svg\" alt=\"Open In Colab\"/></a>"
      ]
    },
    {
      "cell_type": "markdown",
      "source": [],
      "metadata": {
        "id": "bDTvY5cWpaik"
      }
    },
    {
      "cell_type": "markdown",
      "source": [
        "Criando QRCODE "
      ],
      "metadata": {
        "id": "LJmfiZD7pb-_"
      }
    },
    {
      "cell_type": "markdown",
      "source": [
        "Criando QRCODE para link Instagram"
      ],
      "metadata": {
        "id": "lINIiEqwo8HG"
      }
    },
    {
      "cell_type": "code",
      "execution_count": 10,
      "metadata": {
        "id": "caSmrz5V6GhV"
      },
      "outputs": [],
      "source": [
        "import qrcode\n",
        "\n",
        "img_qrcode = qrcode.make(\"https://www.instagram.com/methahouse/\")\n",
        "img_qrcode.save(\"qrcode_python.jpg\")\n"
      ]
    },
    {
      "cell_type": "markdown",
      "source": [
        "Criando QRCODE para link Instagram loja Liukahn"
      ],
      "metadata": {
        "id": "v5t5QWe5pKXg"
      }
    },
    {
      "cell_type": "code",
      "source": [
        "import qrcode\n",
        "\n",
        "img_qrcode = qrcode.make(\"https://www.instagram.com/LiukahnShop/\")\n",
        "img_qrcode.save(\"qrcode_Liukahn.jpg\")\n"
      ],
      "metadata": {
        "id": "A7Px10s5X6ak"
      },
      "execution_count": 12,
      "outputs": []
    },
    {
      "cell_type": "markdown",
      "source": [
        "Criando QRCODE para link Linkedin"
      ],
      "metadata": {
        "id": "bMjGqNoypT9-"
      }
    },
    {
      "cell_type": "code",
      "source": [
        "import qrcode\n",
        "\n",
        "img_qrcode = qrcode.make(\"https://www.linkedin.com/in/dilson-campos-79772b25/\")\n",
        "img_qrcode.save(\"qrcode_campos.jpg\")"
      ],
      "metadata": {
        "id": "XaQbZVIRdUxw"
      },
      "execution_count": null,
      "outputs": []
    },
    {
      "cell_type": "code",
      "source": [
        "import qrcode\n",
        "\n",
        "img_qrcode = qrcode.make(\"https://www.linkedin.com/in/erivaldo-xavier-duarte-a17b7036/\")\n",
        "img_qrcode.save(\"qrcode_xavier.jpg\")"
      ],
      "metadata": {
        "id": "-YBzNIhsdi0a"
      },
      "execution_count": 14,
      "outputs": []
    }
  ]
}